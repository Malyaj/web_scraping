{
 "cells": [
  {
   "cell_type": "code",
   "execution_count": 1,
   "metadata": {},
   "outputs": [],
   "source": [
    "import requests\n",
    "from bs4 import BeautifulSoup\n",
    "import os"
   ]
  },
  {
   "cell_type": "code",
   "execution_count": 2,
   "metadata": {},
   "outputs": [],
   "source": [
    "archive_url = \"http://www-personal.umich.edu/~csev/books/py4inf/media/\""
   ]
  },
  {
   "cell_type": "code",
   "execution_count": 3,
   "metadata": {},
   "outputs": [],
   "source": [
    "path = '/Users/malyaj/Downloads/videos'\n",
    "os.chdir(path)"
   ]
  },
  {
   "cell_type": "code",
   "execution_count": 4,
   "metadata": {},
   "outputs": [],
   "source": [
    "def get_soup(url, parser = 'html5lib'):\n",
    "    return BeautifulSoup(requests.get(url).content, parser)"
   ]
  },
  {
   "cell_type": "code",
   "execution_count": 5,
   "metadata": {},
   "outputs": [],
   "source": [
    "soup = get_soup(archive_url)"
   ]
  },
  {
   "cell_type": "code",
   "execution_count": 6,
   "metadata": {},
   "outputs": [],
   "source": [
    "links = soup.findAll('a')"
   ]
  },
  {
   "cell_type": "code",
   "execution_count": 7,
   "metadata": {},
   "outputs": [
    {
     "data": {
      "text/plain": [
       "224"
      ]
     },
     "execution_count": 7,
     "metadata": {},
     "output_type": "execute_result"
    }
   ],
   "source": [
    "len(links)"
   ]
  },
  {
   "cell_type": "code",
   "execution_count": 8,
   "metadata": {},
   "outputs": [],
   "source": [
    "video_links = [archive_url + link['href'] for link in links if link['href'].endswith('mp4')]"
   ]
  },
  {
   "cell_type": "code",
   "execution_count": 9,
   "metadata": {},
   "outputs": [
    {
     "data": {
      "text/plain": [
       "64"
      ]
     },
     "execution_count": 9,
     "metadata": {},
     "output_type": "execute_result"
    }
   ],
   "source": [
    "len(video_links)"
   ]
  },
  {
   "cell_type": "code",
   "execution_count": 10,
   "metadata": {},
   "outputs": [],
   "source": [
    "first = video_links[0]"
   ]
  },
  {
   "cell_type": "code",
   "execution_count": 11,
   "metadata": {},
   "outputs": [
    {
     "data": {
      "text/plain": [
       "'http://www-personal.umich.edu/~csev/books/py4inf/media/PY4INF-13-Webservices-01.mp4'"
      ]
     },
     "execution_count": 11,
     "metadata": {},
     "output_type": "execute_result"
    }
   ],
   "source": [
    "first"
   ]
  },
  {
   "cell_type": "code",
   "execution_count": 18,
   "metadata": {},
   "outputs": [],
   "source": [
    "def download_video(url, chunksize = 1024 * 1024 * 5):\n",
    "    name = url.split('/')[-1]\n",
    "    \n",
    "    r = requests.get(url, stream = True)\n",
    "    \n",
    "    with open(name, 'wb') as f:\n",
    "        itr = 0\n",
    "        for chunk in r.iter_content(chunk_size= chunksize):\n",
    "            print(f'processing chunk {itr}')\n",
    "            if chunk:\n",
    "                f.write(chunk)\n",
    "            itr += 1"
   ]
  },
  {
   "cell_type": "code",
   "execution_count": 19,
   "metadata": {},
   "outputs": [
    {
     "name": "stdout",
     "output_type": "stream",
     "text": [
      "processing chunk 0\n",
      "processing chunk 1\n",
      "processing chunk 2\n",
      "processing chunk 3\n",
      "processing chunk 4\n",
      "processing chunk 5\n",
      "processing chunk 6\n",
      "processing chunk 7\n",
      "processing chunk 8\n",
      "processing chunk 9\n",
      "processing chunk 10\n",
      "processing chunk 11\n",
      "processing chunk 12\n",
      "processing chunk 13\n",
      "processing chunk 14\n",
      "processing chunk 15\n",
      "processing chunk 16\n",
      "processing chunk 17\n",
      "processing chunk 18\n",
      "processing chunk 19\n",
      "processing chunk 20\n",
      "processing chunk 21\n",
      "processing chunk 22\n",
      "processing chunk 23\n",
      "processing chunk 24\n",
      "processing chunk 25\n",
      "processing chunk 26\n",
      "processing chunk 27\n",
      "processing chunk 28\n",
      "processing chunk 29\n",
      "processing chunk 30\n"
     ]
    }
   ],
   "source": [
    "download_video(first)"
   ]
  },
  {
   "cell_type": "code",
   "execution_count": 16,
   "metadata": {},
   "outputs": [
    {
     "data": {
      "text/plain": [
       "3"
      ]
     },
     "execution_count": 16,
     "metadata": {},
     "output_type": "execute_result"
    }
   ],
   "source": [
    "3"
   ]
  },
  {
   "cell_type": "code",
   "execution_count": null,
   "metadata": {},
   "outputs": [],
   "source": []
  }
 ],
 "metadata": {
  "kernelspec": {
   "display_name": "Python 3",
   "language": "python",
   "name": "python3"
  },
  "language_info": {
   "codemirror_mode": {
    "name": "ipython",
    "version": 3
   },
   "file_extension": ".py",
   "mimetype": "text/x-python",
   "name": "python",
   "nbconvert_exporter": "python",
   "pygments_lexer": "ipython3",
   "version": "3.7.3"
  }
 },
 "nbformat": 4,
 "nbformat_minor": 2
}

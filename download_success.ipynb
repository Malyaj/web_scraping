{
 "cells": [
  {
   "cell_type": "code",
   "execution_count": 1,
   "metadata": {},
   "outputs": [],
   "source": [
    "import requests"
   ]
  },
  {
   "cell_type": "code",
   "execution_count": 2,
   "metadata": {},
   "outputs": [],
   "source": [
    "url = 'https://content.artofmanliness.com/uploads/2019/04/Bird-Out-of-House-1-538x280.jpg'"
   ]
  },
  {
   "cell_type": "code",
   "execution_count": 3,
   "metadata": {},
   "outputs": [],
   "source": [
    "import os\n",
    "\n",
    "path = '/Users/malyaj/Downloads'\n",
    "\n",
    "os.chdir(path)"
   ]
  },
  {
   "cell_type": "code",
   "execution_count": 4,
   "metadata": {},
   "outputs": [],
   "source": [
    "f = open('00000001.jpg','wb')\n",
    "f.write(requests.get(url).content)\n",
    "f.close()"
   ]
  },
  {
   "cell_type": "code",
   "execution_count": 5,
   "metadata": {},
   "outputs": [],
   "source": [
    "def downlaod_image(url, name, mode='wb'):\n",
    "    ## extract the extension from the image url\n",
    "    extension = url.split('.')[-1]\n",
    "    name = '.'.join([name, extension])\n",
    "    \n",
    "    try:\n",
    "        f = open(name, mode)\n",
    "        f.write(requests.get(url).content)\n",
    "        f.close()\n",
    "        print(f'Image {name} downloaded from {url}')\n",
    "    except:\n",
    "        print(f'Failed to download image from {url}')"
   ]
  },
  {
   "cell_type": "code",
   "execution_count": 6,
   "metadata": {},
   "outputs": [],
   "source": [
    "page_url = 'https://www.artofmanliness.com/articles/how-to-make-the-worlds-best-paper-airplanes/'"
   ]
  },
  {
   "cell_type": "code",
   "execution_count": 7,
   "metadata": {},
   "outputs": [],
   "source": [
    "from bs4 import BeautifulSoup"
   ]
  },
  {
   "cell_type": "code",
   "execution_count": 10,
   "metadata": {},
   "outputs": [],
   "source": [
    "def get_soup(url, parser = 'html.parser'):\n",
    "    return BeautifulSoup(requests.get(url).content, parser)"
   ]
  },
  {
   "cell_type": "code",
   "execution_count": 11,
   "metadata": {},
   "outputs": [],
   "source": [
    "soup = get_soup(page_url)"
   ]
  },
  {
   "cell_type": "code",
   "execution_count": 12,
   "metadata": {},
   "outputs": [],
   "source": [
    "image_tags = soup.find_all('img')"
   ]
  },
  {
   "cell_type": "code",
   "execution_count": 13,
   "metadata": {},
   "outputs": [],
   "source": [
    "image_urls = [tag.attrs.get('src') for tag in image_tags]"
   ]
  },
  {
   "cell_type": "code",
   "execution_count": 14,
   "metadata": {},
   "outputs": [
    {
     "data": {
      "text/plain": [
       "207"
      ]
     },
     "execution_count": 14,
     "metadata": {},
     "output_type": "execute_result"
    }
   ],
   "source": [
    "len(image_tags)"
   ]
  },
  {
   "cell_type": "code",
   "execution_count": 16,
   "metadata": {},
   "outputs": [
    {
     "data": {
      "text/plain": [
       "{'gif', 'jpeg', 'jpg', 'png', 'svg'}"
      ]
     },
     "execution_count": 16,
     "metadata": {},
     "output_type": "execute_result"
    }
   ],
   "source": [
    "formats = set(url.split('.')[-1] for url in image_urls if url is not None)\n",
    "formats"
   ]
  },
  {
   "cell_type": "code",
   "execution_count": 21,
   "metadata": {},
   "outputs": [],
   "source": [
    "image_urls = list(filter(lambda x: x is not None and x.split('.')[-1] in ('jpeg', 'jpg', ), image_urls))\n",
    "#image_urls"
   ]
  },
  {
   "cell_type": "code",
   "execution_count": 22,
   "metadata": {},
   "outputs": [
    {
     "data": {
      "text/plain": [
       "'https://content.artofmanliness.com/uploads/2019/04/denim-header-538x280.jpg'"
      ]
     },
     "execution_count": 22,
     "metadata": {},
     "output_type": "execute_result"
    }
   ],
   "source": [
    "first = image_urls[0]\n",
    "first"
   ]
  },
  {
   "cell_type": "code",
   "execution_count": 23,
   "metadata": {},
   "outputs": [
    {
     "name": "stdout",
     "output_type": "stream",
     "text": [
      "Image first.jpg downloaded from https://content.artofmanliness.com/uploads/2019/04/denim-header-538x280.jpg\n"
     ]
    }
   ],
   "source": [
    "downlaod_image(first, 'first')"
   ]
  },
  {
   "cell_type": "code",
   "execution_count": 25,
   "metadata": {},
   "outputs": [],
   "source": [
    "names = list(map(lambda x: 'img' + str(x).rjust(4, '_'), range(len(image_urls))))"
   ]
  },
  {
   "cell_type": "code",
   "execution_count": 26,
   "metadata": {},
   "outputs": [
    {
     "name": "stdout",
     "output_type": "stream",
     "text": [
      "Image img___0.jpg downloaded from https://content.artofmanliness.com/uploads/2019/04/denim-header-538x280.jpg\n",
      "Image img___1.jpg downloaded from https://content.artofmanliness.com/uploads/2018/12/Dressing-for-Others-header-538x280.jpg\n",
      "Image img___2.jpg downloaded from https://content.artofmanliness.com/uploads/2018/12/V-Neck-Header-2-538x280.jpg\n",
      "Image img___3.jpg downloaded from https://content.artofmanliness.com/uploads/2019/03/Punch-Holes-Drill-538x280.jpg\n",
      "Image img___4.jpg downloaded from https://content.artofmanliness.com/uploads/2010/10/Trench-Coat-WWI-Soldier.jpg\n",
      "Image img___5.jpg downloaded from https://content.artofmanliness.com/uploads/2012/02/newman.jpg\n",
      "Image img___6.jpg downloaded from https://content.artofmanliness.com/uploads/2017/10/Stop-a-Shaving-Cut-1-538x280.jpg\n",
      "Image img___7.jpg downloaded from https://content.artofmanliness.com/uploads/2015/09/sharpologist-538x196.jpg\n",
      "Image img___8.jpg downloaded from https://content.artofmanliness.com/uploads/2015/02/maxresdefault4-538x280.jpg\n",
      "Image img___9.jpg downloaded from https://content.artofmanliness.com/uploads/2019/02/finance-538x280.jpg\n",
      "Image img__10.jpg downloaded from https://content.artofmanliness.com/uploads/2018/11/cash-1-538x280.jpg\n",
      "Image img__11.jpg downloaded from https://content.artofmanliness.com/uploads/2018/10/a-new-u-1-1-538x280.jpg\n",
      "Image img__12.jpg downloaded from https://content.artofmanliness.com/uploads/2018/07/Childs-Education-Header-1-538x280.jpg\n",
      "Image img__13.jpg downloaded from https://content.artofmanliness.com/uploads/2015/09/write-538x280.jpg\n",
      "Image img__14.jpg downloaded from https://content.artofmanliness.com/uploads/2018/06/MLM-Header-BLANK-538x280.jpg\n",
      "Image img__15.jpg downloaded from https://content.artofmanliness.com/uploads/2016/02/work-the-system-e1454712987426-1-362x280.jpg\n",
      "Image img__16.jpg downloaded from https://content.artofmanliness.com/uploads/2014/09/Greiner_and_Forch-538x280.jpg\n",
      "Image img__17.jpg downloaded from https://content.artofmanliness.com/uploads/2018/05/burkus-1-538x280.jpg\n",
      "Image img__18.jpeg downloaded from https://content.artofmanliness.com/uploads/2018/04/adamdillon_0643-1_preview-538x280.jpeg\n",
      "Image img__19.jpg downloaded from https://content.artofmanliness.com/uploads/2015/03/busyman-538x280.jpg\n",
      "Image img__20.jpg downloaded from https://content.artofmanliness.com/uploads/2018/06/GettyImages-515803679-538x280.jpg\n",
      "Image img__21.jpg downloaded from https://content.artofmanliness.com/uploads/2016/07/P1040965-538x280.jpg\n",
      "Image img__22.jpg downloaded from https://content.artofmanliness.com/uploads/2016/05/IMG_2136-375x280.jpg\n",
      "Image img__23.jpg downloaded from https://content.artofmanliness.com/uploads/2019/04/Kellys-Home-Gym-1-538x280.jpg\n",
      "Image img__24.jpg downloaded from https://content.artofmanliness.com/uploads/2019/02/Weights-or-Cardio-image-1-538x280.jpg\n",
      "Image img__25.jpg downloaded from https://content.artofmanliness.com/uploads/2019/01/IMG_7047-538x280.jpg\n",
      "Image img__26.jpg downloaded from https://content.artofmanliness.com/uploads/2018/11/proteinheader-538x280.jpg\n",
      "Image img__27.jpg downloaded from https://content.artofmanliness.com/uploads/2018/08/High-Carb_Low-Fat-Header-2-1-538x280.jpg\n",
      "Image img__28.jpg downloaded from https://content.artofmanliness.com/uploads/2019/01/Jump-Rope-Header-538x280.jpg\n",
      "Image img__29.jpg downloaded from https://content.artofmanliness.com/uploads/2018/11/the-playmakers-advantage-9781501181863_hr-1-538x280.jpg\n",
      "Image img__30.jpg downloaded from https://content.artofmanliness.com/uploads/2018/10/Play-Team-Sport-Header-538x280.jpg\n",
      "Image img__31.jpg downloaded from https://content.artofmanliness.com/uploads/2018/08/100-Unforgettable-John-Wooden-Quotes-538x280.jpg\n",
      "Image img__32.jpg downloaded from https://content.artofmanliness.com/uploads/2019/02/hot-538x280.jpg\n",
      "Image img__33.jpg downloaded from https://content.artofmanliness.com/uploads/2018/11/Sit-Rise-Header-BLANK-538x280.jpg\n",
      "Image img__34.jpg downloaded from https://content.artofmanliness.com/uploads/2019/04/Test-Relationship-Header-BLANK-538x280.jpg\n",
      "Image img__35.jpg downloaded from https://content.artofmanliness.com/uploads/2012/02/eisenhower.jpg\n",
      "Image img__36.jpg downloaded from https://content.artofmanliness.com/uploads/2012/02/eyecontact1.jpg\n",
      "Image img__37.jpg downloaded from https://content.artofmanliness.com/uploads/2019/04/Better-Dad-Header-BLANK-538x280.jpg\n",
      "Image img__38.jpg downloaded from https://content.artofmanliness.com/uploads/2019/03/Pattern-Setting-Header-BLANK-538x280.jpg\n",
      "Image img__39.jpg downloaded from https://content.artofmanliness.com/uploads/2018/11/Books-New-Dads-Header-1-538x280.jpg\n",
      "Image img__40.jpg downloaded from https://content.artofmanliness.com/uploads/2008/07/bestmanjpg.jpg\n",
      "Image img__41.jpg downloaded from https://content.artofmanliness.com/uploads/2018/02/man-cooking-snacks-beer-538x280.jpg\n",
      "Image img__42.jpg downloaded from https://content.artofmanliness.com/uploads/2008/10/aom-002.jpg\n",
      "Image img__43.jpg downloaded from https://content.artofmanliness.com/uploads/2008/07/bestmanjpg.jpg\n",
      "Image img__44.jpg downloaded from https://content.artofmanliness.com/uploads/2018/12/gents-1-538x280.jpg\n",
      "Image img__45.jpg downloaded from https://content.artofmanliness.com/uploads/2018/11/house-538x280.jpg\n",
      "Image img__46.jpg downloaded from https://content.artofmanliness.com/uploads/2019/02/kiss3-538x280.jpg\n",
      "Image img__47.jpg downloaded from https://content.artofmanliness.com/uploads/2019/04/strangers-538x280.jpg\n",
      "Image img__48.jpg downloaded from https://content.artofmanliness.com/uploads/2012/08/small-talk11-538x280.jpg\n",
      "Image img__49.jpg downloaded from https://content.artofmanliness.com/uploads/2012/02/eisenhower.jpg\n",
      "Image img__50.jpg downloaded from https://content.artofmanliness.com/uploads/2012/02/eyecontact1.jpg\n",
      "Image img__51.jpg downloaded from https://content.artofmanliness.com/uploads//2014/09/IMG_3248.jpg\n",
      "Image img__52.jpg downloaded from https://content.artofmanliness.com/uploads//2014/09/IMG_3211.jpg\n",
      "Image img__53.jpg downloaded from https://content.artofmanliness.com/uploads//2014/09/IMG_3212.jpg\n",
      "Image img__54.jpg downloaded from https://content.artofmanliness.com/uploads//2014/09/IMG_3213.jpg\n",
      "Image img__55.jpg downloaded from https://content.artofmanliness.com/uploads//2014/09/IMG_3214.jpg\n",
      "Image img__56.jpg downloaded from https://content.artofmanliness.com/uploads//2014/09/IMG_3216.jpg\n",
      "Image img__57.jpg downloaded from https://content.artofmanliness.com/uploads//2014/09/IMG_3219.jpg\n",
      "Image img__58.jpg downloaded from https://content.artofmanliness.com/uploads//2014/09/IMG_3220.jpg\n",
      "Image img__59.jpg downloaded from https://content.artofmanliness.com/uploads//2014/09/IMG_3221.jpg\n",
      "Image img__60.jpg downloaded from https://content.artofmanliness.com/uploads//2014/09/IMG_3211.jpg\n",
      "Image img__61.jpg downloaded from https://content.artofmanliness.com/uploads//2014/09/IMG_3212.jpg\n",
      "Image img__62.jpg downloaded from https://content.artofmanliness.com/uploads//2014/09/IMG_3222.jpg\n",
      "Image img__63.jpg downloaded from https://content.artofmanliness.com/uploads//2014/09/IMG_3223.jpg\n",
      "Image img__64.jpg downloaded from https://content.artofmanliness.com/uploads//2014/09/IMG_3224.jpg\n",
      "Image img__65.jpg downloaded from https://content.artofmanliness.com/uploads//2014/09/IMG_3225.jpg\n",
      "Image img__66.jpg downloaded from https://content.artofmanliness.com/uploads//2014/09/IMG_3226.jpg\n",
      "Image img__67.jpg downloaded from https://content.artofmanliness.com/uploads//2014/09/IMG_3228.jpg\n",
      "Image img__68.jpg downloaded from https://content.artofmanliness.com/uploads//2014/09/IMG_3229.jpg\n",
      "Image img__69.jpg downloaded from https://content.artofmanliness.com/uploads//2014/09/IMG_3230.jpg\n",
      "Image img__70.jpg downloaded from https://content.artofmanliness.com/uploads//2014/09/IMG_3231.jpg\n",
      "Image img__71.jpg downloaded from https://content.artofmanliness.com/uploads//2014/09/IMG_3232.jpg\n",
      "Image img__72.jpg downloaded from https://content.artofmanliness.com/uploads//2014/09/IMG_3233.jpg\n",
      "Image img__73.jpg downloaded from https://content.artofmanliness.com/uploads//2014/09/IMG_3234.jpg\n",
      "Image img__74.jpg downloaded from https://content.artofmanliness.com/uploads//2014/09/IMG_3235.jpg\n",
      "Image img__75.jpg downloaded from https://content.artofmanliness.com/uploads//2014/09/IMG_3236.jpg\n",
      "Image img__76.jpg downloaded from https://content.artofmanliness.com/uploads//2014/09/IMG_3238.jpg\n",
      "Image img__77.jpg downloaded from https://content.artofmanliness.com/uploads//2014/09/IMG_3239.jpg\n",
      "Image img__78.jpg downloaded from https://content.artofmanliness.com/uploads//2014/09/IMG_3240.jpg\n",
      "Image img__79.jpg downloaded from https://content.artofmanliness.com/uploads//2014/09/IMG_3241.jpg\n",
      "Image img__80.jpg downloaded from https://content.artofmanliness.com/uploads//2014/09/IMG_3242.jpg\n",
      "Image img__81.jpg downloaded from https://content.artofmanliness.com/uploads//2014/09/IMG_3243.jpg\n",
      "Image img__82.jpg downloaded from https://content.artofmanliness.com/uploads//2014/09/IMG_3244.jpg\n",
      "Image img__83.jpg downloaded from https://content.artofmanliness.com/uploads//2014/09/IMG_3246.jpg\n",
      "Image img__84.jpg downloaded from https://content.artofmanliness.com/uploads//2014/09/IMG_3247.jpg\n",
      "Image img__85.jpg downloaded from https://content.artofmanliness.com/uploads//2014/09/IMG_3248.jpg\n",
      "Image img__86.jpg downloaded from https://www.artofmanliness.com/wp-content/themes/aom/assets/img/podcast.jpg\n",
      "Image img__87.jpg downloaded from https://www.artofmanliness.com/wp-content/themes/aom/assets/img/podcast-icon.jpg\n",
      "Image img__88.jpg downloaded from https://www.artofmanliness.com/wp-content/themes/aom/assets/img/podcast-icon.jpg\n",
      "Image img__89.jpg downloaded from https://www.artofmanliness.com/wp-content/themes/aom/assets/img/podcast-icon.jpg\n",
      "Image img__90.jpg downloaded from https://www.artofmanliness.com/wp-content/themes/aom/assets/img/podcast-icon.jpg\n",
      "Image img__91.jpg downloaded from https://content.artofmanliness.com/uploads/2019/04/IMG_7149-538x280.jpg\n",
      "Image img__92.jpg downloaded from https://content.artofmanliness.com/uploads/2019/04/Bird-Out-of-House-1-538x280.jpg\n",
      "Image img__93.jpg downloaded from https://content.artofmanliness.com/uploads/2019/04/Carjacking-Header-BLANK-538x280.jpg\n"
     ]
    }
   ],
   "source": [
    "for url, name in zip(image_urls, names):\n",
    "    downlaod_image(url, name)"
   ]
  },
  {
   "cell_type": "code",
   "execution_count": 34,
   "metadata": {},
   "outputs": [
    {
     "data": {
      "text/plain": [
       "{'src': 'https://www.artofmanliness.com/wp-content/themes/aom/assets/img/logo.svg',\n",
       " 'alt': 'logo'}"
      ]
     },
     "execution_count": 34,
     "metadata": {},
     "output_type": "execute_result"
    }
   ],
   "source": [
    "soup.find('img').attrs"
   ]
  },
  {
   "cell_type": "code",
   "execution_count": 36,
   "metadata": {},
   "outputs": [
    {
     "data": {
      "text/plain": [
       "dict_keys(['src', 'alt'])"
      ]
     },
     "execution_count": 36,
     "metadata": {},
     "output_type": "execute_result"
    }
   ],
   "source": [
    "soup.find('img').attrs.keys()"
   ]
  },
  {
   "cell_type": "code",
   "execution_count": null,
   "metadata": {},
   "outputs": [],
   "source": []
  }
 ],
 "metadata": {
  "kernelspec": {
   "display_name": "Python 3",
   "language": "python",
   "name": "python3"
  },
  "language_info": {
   "codemirror_mode": {
    "name": "ipython",
    "version": 3
   },
   "file_extension": ".py",
   "mimetype": "text/x-python",
   "name": "python",
   "nbconvert_exporter": "python",
   "pygments_lexer": "ipython3",
   "version": "3.7.3"
  }
 },
 "nbformat": 4,
 "nbformat_minor": 2
}
